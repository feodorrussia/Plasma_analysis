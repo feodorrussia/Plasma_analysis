{
 "cells": [
  {
   "cell_type": "code",
   "execution_count": 1,
   "metadata": {
    "collapsed": true,
    "ExecuteTime": {
     "start_time": "2024-09-03T19:20:13.681373Z",
     "end_time": "2024-09-03T19:20:17.620063Z"
    }
   },
   "outputs": [
    {
     "name": "stdout",
     "output_type": "stream",
     "text": [
      "shtRipper v1.3\n"
     ]
    }
   ],
   "source": [
    "import pandas as pd\n",
    "import numpy as np\n",
    "from source.Files_operating import read_sht_data, read_dataFile"
   ]
  },
  {
   "cell_type": "code",
   "execution_count": 7,
   "outputs": [
    {
     "data": {
      "text/plain": "                   t        d_alpha            sxr\ncount  393216.000000  393216.000000  393216.000000\nmean        0.196608       0.281714       0.386184\nstd         0.113512       0.393401       0.503047\nmin         0.000000      -0.388535      -0.076685\n25%         0.098304       0.012781       0.107358\n50%         0.196607       0.066460       0.109915\n75%         0.294911       0.575134       0.439658\nmax         0.393215       4.818347       2.356772",
      "text/html": "<div>\n<style scoped>\n    .dataframe tbody tr th:only-of-type {\n        vertical-align: middle;\n    }\n\n    .dataframe tbody tr th {\n        vertical-align: top;\n    }\n\n    .dataframe thead th {\n        text-align: right;\n    }\n</style>\n<table border=\"1\" class=\"dataframe\">\n  <thead>\n    <tr style=\"text-align: right;\">\n      <th></th>\n      <th>t</th>\n      <th>d_alpha</th>\n      <th>sxr</th>\n    </tr>\n  </thead>\n  <tbody>\n    <tr>\n      <th>count</th>\n      <td>393216.000000</td>\n      <td>393216.000000</td>\n      <td>393216.000000</td>\n    </tr>\n    <tr>\n      <th>mean</th>\n      <td>0.196608</td>\n      <td>0.281714</td>\n      <td>0.386184</td>\n    </tr>\n    <tr>\n      <th>std</th>\n      <td>0.113512</td>\n      <td>0.393401</td>\n      <td>0.503047</td>\n    </tr>\n    <tr>\n      <th>min</th>\n      <td>0.000000</td>\n      <td>-0.388535</td>\n      <td>-0.076685</td>\n    </tr>\n    <tr>\n      <th>25%</th>\n      <td>0.098304</td>\n      <td>0.012781</td>\n      <td>0.107358</td>\n    </tr>\n    <tr>\n      <th>50%</th>\n      <td>0.196607</td>\n      <td>0.066460</td>\n      <td>0.109915</td>\n    </tr>\n    <tr>\n      <th>75%</th>\n      <td>0.294911</td>\n      <td>0.575134</td>\n      <td>0.439658</td>\n    </tr>\n    <tr>\n      <th>max</th>\n      <td>0.393215</td>\n      <td>4.818347</td>\n      <td>2.356772</td>\n    </tr>\n  </tbody>\n</table>\n</div>"
     },
     "execution_count": 7,
     "metadata": {},
     "output_type": "execute_result"
    }
   ],
   "source": [
    "F_ID = 44184\n",
    "\n",
    "df = read_sht_data(f'sht{F_ID}', 'D:/Edu/Lab/Projects/Plasma_analysis/data/sht/G-ELM/')\n",
    "df = df.rename(columns={\"ch1\": \"d_alpha\"})\n",
    "df[\"sxr\"] = read_sht_data(f'sht{F_ID}', 'D:/Edu/Lab/Projects/Plasma_analysis/data/sht/G-ELM/', data_name=\"SXR 50 mkm\").ch1\n",
    "# dbs = read_dataFile(f'data/dbs/{F_ID} DBS.dat')\n",
    "# mgd_data_1\n",
    "# mgd_data_3\n",
    "# mgd_data_2\n",
    "df.describe()"
   ],
   "metadata": {
    "collapsed": false,
    "ExecuteTime": {
     "start_time": "2024-09-03T20:03:18.847518Z",
     "end_time": "2024-09-03T20:03:23.085308Z"
    }
   }
  },
  {
   "cell_type": "code",
   "execution_count": 10,
   "outputs": [],
   "source": [
    "d_alpha = df.d_alpha.to_numpy()\n",
    "sxr = df.sxr.to_numpy()\n",
    "\n",
    "d_alpha_d1 = np.diff(d_alpha)\n",
    "sxr_d1 = np.diff(sxr)"
   ],
   "metadata": {
    "collapsed": false,
    "ExecuteTime": {
     "start_time": "2024-09-03T20:04:45.836461Z",
     "end_time": "2024-09-03T20:04:45.860846Z"
    }
   }
  },
  {
   "cell_type": "code",
   "execution_count": 14,
   "outputs": [
    {
     "name": "stdout",
     "output_type": "stream",
     "text": [
      "0.6645996093750001 0.01473248033829097 (2,)\n",
      "0.1073583984375 0.0039723774454435475 (1,)\n"
     ]
    }
   ],
   "source": [
    "da_d1_max, da_d1_std = d_alpha_d1.max(), d_alpha_d1.std()\n",
    "sxr_d1_max, sxr_d1_std = sxr_d1.max(), sxr_d1.std()"
   ],
   "metadata": {
    "collapsed": false,
    "ExecuteTime": {
     "start_time": "2024-09-03T20:10:59.950218Z",
     "end_time": "2024-09-03T20:10:59.964319Z"
    }
   }
  },
  {
   "cell_type": "code",
   "execution_count": null,
   "outputs": [],
   "source": [
    "# filtering"
   ],
   "metadata": {
    "collapsed": false
   }
  },
  {
   "cell_type": "code",
   "execution_count": 22,
   "outputs": [
    {
     "name": "stdout",
     "output_type": "stream",
     "text": [
      "0.6645996093750001 0.01473248033829097 (829,)\n",
      "0.1073583984375 0.0039723774454435475 (2880,)\n"
     ]
    }
   ],
   "source": [
    "print(da_d1_max, da_d1_std, d_alpha_d1[d_alpha_d1 - d_alpha_d1.mean() > da_d1_std * 3].shape)\n",
    "print(sxr_d1_max, sxr_d1_std, sxr_d1[sxr_d1.mean() - sxr_d1 > sxr_d1_std * 3].shape)"
   ],
   "metadata": {
    "collapsed": false,
    "ExecuteTime": {
     "start_time": "2024-09-03T20:17:48.341926Z",
     "end_time": "2024-09-03T20:17:48.361500Z"
    }
   }
  },
  {
   "cell_type": "code",
   "execution_count": null,
   "outputs": [],
   "source": [],
   "metadata": {
    "collapsed": false
   }
  }
 ],
 "metadata": {
  "kernelspec": {
   "display_name": "Python 3",
   "language": "python",
   "name": "python3"
  },
  "language_info": {
   "codemirror_mode": {
    "name": "ipython",
    "version": 2
   },
   "file_extension": ".py",
   "mimetype": "text/x-python",
   "name": "python",
   "nbconvert_exporter": "python",
   "pygments_lexer": "ipython2",
   "version": "2.7.6"
  }
 },
 "nbformat": 4,
 "nbformat_minor": 0
}
