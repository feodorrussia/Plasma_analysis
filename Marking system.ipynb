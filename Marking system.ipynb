{
 "cells": [
  {
   "cell_type": "code",
   "execution_count": 1,
   "metadata": {
    "ExecuteTime": {
     "end_time": "2024-09-03T19:20:17.620063Z",
     "start_time": "2024-09-03T19:20:13.681373Z"
    }
   },
   "outputs": [
    {
     "name": "stdout",
     "output_type": "stream",
     "text": [
      "shtRipper v1.3\n"
     ]
    }
   ],
   "source": [
    "import pandas as pd\n",
    "import numpy as np\n",
    "from source.Files_operating import read_sht_data, read_dataFile"
   ]
  },
  {
   "cell_type": "code",
   "execution_count": 4,
   "metadata": {
    "ExecuteTime": {
     "end_time": "2024-09-03T20:03:23.085308Z",
     "start_time": "2024-09-03T20:03:18.847518Z"
    }
   },
   "outputs": [
    {
     "data": {
      "text/html": [
       "<div>\n",
       "<style scoped>\n",
       "    .dataframe tbody tr th:only-of-type {\n",
       "        vertical-align: middle;\n",
       "    }\n",
       "\n",
       "    .dataframe tbody tr th {\n",
       "        vertical-align: top;\n",
       "    }\n",
       "\n",
       "    .dataframe thead th {\n",
       "        text-align: right;\n",
       "    }\n",
       "</style>\n",
       "<table border=\"1\" class=\"dataframe\">\n",
       "  <thead>\n",
       "    <tr style=\"text-align: right;\">\n",
       "      <th></th>\n",
       "      <th>t</th>\n",
       "      <th>d_alpha</th>\n",
       "      <th>sxr</th>\n",
       "    </tr>\n",
       "  </thead>\n",
       "  <tbody>\n",
       "    <tr>\n",
       "      <th>count</th>\n",
       "      <td>393216.000000</td>\n",
       "      <td>393216.000000</td>\n",
       "      <td>393216.000000</td>\n",
       "    </tr>\n",
       "    <tr>\n",
       "      <th>mean</th>\n",
       "      <td>0.196608</td>\n",
       "      <td>0.281714</td>\n",
       "      <td>0.386184</td>\n",
       "    </tr>\n",
       "    <tr>\n",
       "      <th>std</th>\n",
       "      <td>0.113512</td>\n",
       "      <td>0.393401</td>\n",
       "      <td>0.503047</td>\n",
       "    </tr>\n",
       "    <tr>\n",
       "      <th>min</th>\n",
       "      <td>0.000000</td>\n",
       "      <td>-0.388535</td>\n",
       "      <td>-0.076685</td>\n",
       "    </tr>\n",
       "    <tr>\n",
       "      <th>25%</th>\n",
       "      <td>0.098304</td>\n",
       "      <td>0.012781</td>\n",
       "      <td>0.107358</td>\n",
       "    </tr>\n",
       "    <tr>\n",
       "      <th>50%</th>\n",
       "      <td>0.196607</td>\n",
       "      <td>0.066460</td>\n",
       "      <td>0.109915</td>\n",
       "    </tr>\n",
       "    <tr>\n",
       "      <th>75%</th>\n",
       "      <td>0.294911</td>\n",
       "      <td>0.575134</td>\n",
       "      <td>0.439658</td>\n",
       "    </tr>\n",
       "    <tr>\n",
       "      <th>max</th>\n",
       "      <td>0.393215</td>\n",
       "      <td>4.818347</td>\n",
       "      <td>2.356772</td>\n",
       "    </tr>\n",
       "  </tbody>\n",
       "</table>\n",
       "</div>"
      ],
      "text/plain": [
       "                   t        d_alpha            sxr\n",
       "count  393216.000000  393216.000000  393216.000000\n",
       "mean        0.196608       0.281714       0.386184\n",
       "std         0.113512       0.393401       0.503047\n",
       "min         0.000000      -0.388535      -0.076685\n",
       "25%         0.098304       0.012781       0.107358\n",
       "50%         0.196607       0.066460       0.109915\n",
       "75%         0.294911       0.575134       0.439658\n",
       "max         0.393215       4.818347       2.356772"
      ]
     },
     "execution_count": 4,
     "metadata": {},
     "output_type": "execute_result"
    }
   ],
   "source": [
    "F_ID = 44184\n",
    "dir_path = \"C:/Users/f.belous/Work/Projects/Plasma_analysis/data/sht/G-ELM/\"  # D:/Edu/Lab/Projects/Plasma_analysis/data/sht/G-ELM/\n",
    "\n",
    "df = read_sht_data(f'sht{F_ID}', dir_path)\n",
    "df = df.rename(columns={\"ch1\": \"d_alpha\"})\n",
    "df[\"sxr\"] = read_sht_data(f'sht{F_ID}', dir_path, data_name=\"SXR 50 mkm\").ch1\n",
    "# dbs = read_dataFile(f'data/dbs/{F_ID} DBS.dat')\n",
    "# mgd_data_1\n",
    "# mgd_data_3\n",
    "# mgd_data_2\n",
    "df.describe()"
   ]
  },
  {
   "cell_type": "code",
   "execution_count": 76,
   "metadata": {
    "ExecuteTime": {
     "end_time": "2024-09-03T20:04:45.860846Z",
     "start_time": "2024-09-03T20:04:45.836461Z"
    },
    "collapsed": false,
    "jupyter": {
     "outputs_hidden": false
    }
   },
   "outputs": [],
   "source": [
    "d_alpha = df.d_alpha.to_numpy()\n",
    "sxr = df.sxr.to_numpy()"
   ]
  },
  {
   "cell_type": "code",
   "execution_count": 94,
   "metadata": {
    "ExecuteTime": {
     "end_time": "2024-09-03T20:04:45.860846Z",
     "start_time": "2024-09-03T20:04:45.836461Z"
    },
    "collapsed": false,
    "jupyter": {
     "outputs_hidden": false
    }
   },
   "outputs": [],
   "source": [
    "d_alpha_d1 = np.diff(d_alpha)\n",
    "sxr_d1 = np.diff(sxr)"
   ]
  },
  {
   "cell_type": "code",
   "execution_count": 95,
   "metadata": {},
   "outputs": [],
   "source": [
    "from scipy import signal\n",
    "\n",
    "b, a = signal.butter(5, 0.1)\n",
    "d_alpha_f = signal.filtfilt(b, a, d_alpha_d1)\n",
    "sxr_f = signal.filtfilt(b, a, sxr_d1)"
   ]
  },
  {
   "cell_type": "code",
   "execution_count": 101,
   "metadata": {
    "ExecuteTime": {
     "end_time": "2024-09-03T20:10:59.964319Z",
     "start_time": "2024-09-03T20:10:59.950218Z"
    },
    "collapsed": false,
    "jupyter": {
     "outputs_hidden": false
    }
   },
   "outputs": [],
   "source": [
    "da_f_max, da_f_std = d_alpha_f.max(), d_alpha_f.std()\n",
    "sxr_f_max, sxr_f_std = sxr_f.max(), sxr_f.std()"
   ]
  },
  {
   "cell_type": "code",
   "execution_count": 206,
   "metadata": {
    "ExecuteTime": {
     "end_time": "2024-09-03T20:17:48.361500Z",
     "start_time": "2024-09-03T20:17:48.341926Z"
    },
    "collapsed": false,
    "jupyter": {
     "outputs_hidden": false
    }
   },
   "outputs": [
    {
     "name": "stdout",
     "output_type": "stream",
     "text": [
      "0.23383257112357403 0.0025870038350616488 (2582,)\n",
      "0.015201329800146266 0.0009320451522782375 (1080,)\n"
     ]
    }
   ],
   "source": [
    "times_da_init = df.t.to_numpy()[:-1][abs(d_alpha_f - np.quantile(d_alpha_f, 0.9)) > d_alpha_f.std() * 3]\n",
    "times_sxr_init = df.t.to_numpy()[:-1][abs(sxr_f - np.quantile(sxr_f, 0.9)) > sxr_f.std() * 6]\n",
    "\n",
    "print(da_f_max, da_f_std, times_da_init.shape)\n",
    "print(sxr_f_max, sxr_f_std, times_sxr_init.shape)"
   ]
  },
  {
   "cell_type": "code",
   "execution_count": 207,
   "metadata": {},
   "outputs": [
    {
     "name": "stdout",
     "output_type": "stream",
     "text": [
      "111\n"
     ]
    }
   ],
   "source": [
    "count = 0\n",
    "for i in range(times_da_init.shape[0]):\n",
    "    if times_da_init[i] in times_sxr_init:\n",
    "        count += 1\n",
    "\n",
    "print(count)"
   ]
  },
  {
   "cell_type": "code",
   "execution_count": null,
   "metadata": {
    "collapsed": false,
    "jupyter": {
     "outputs_hidden": false
    },
    "scrolled": true
   },
   "outputs": [],
   "source": [
    "import matplotlib.pyplot as plt\n",
    "from matplotlib.ticker import AutoMinorLocator\n",
    "\n",
    "mode_ploting = 1  # int(input(\"Input visualising mode [ 0 - manual | 1 - only marked ]:\"))\n",
    "# mode_marking = int(input(\"Input marking mode (0 - manual | 1 - semiauto): \").strip().split()[0])\n",
    "l_edge = 184000  # int(input(f\"Input start index [0:{df.shape[0]//1000*1000}]: \").strip().split()[0])\n",
    "# print(\"---\")\n",
    "step = 2000\n",
    "width = 3000\n",
    "\n",
    "times_da = times_da_init[times_da_init * 1e6 >= l_edge]\n",
    "times_sxr = times_sxr_init[times_sxr_init * 1e6 >= l_edge]\n",
    "\n",
    "step_away = 10\n",
    "time_ind = [0, 0]\n",
    "\n",
    "while l_edge < df.shape[0]:\n",
    "    r_edge = min(l_edge + width, df.shape[0] - 1)\n",
    "\n",
    "    slice_da_times = []\n",
    "    while time_ind[0] < times_da.shape[0] and l_edge <= int(times_da[time_ind[0]] * 1e6) <= r_edge:\n",
    "        slice_da_times.append(times_da[time_ind[0]])\n",
    "        time_ind[0] += 1\n",
    "        \n",
    "    slice_sxr_times = []\n",
    "    while time_ind[1] < times_sxr.shape[0] and l_edge <= times_sxr[time_ind[1]] * 1e6 <= r_edge:\n",
    "        slice_sxr_times.append(times_sxr[time_ind[1]])\n",
    "        time_ind[1] += 1\n",
    "        \n",
    "    \n",
    "    if mode_ploting == 1 and len(slice_da_times) == 0 and len(slice_sxr_times) == 0:\n",
    "        l_edge += step\n",
    "        continue\n",
    "    \n",
    "    fig, [ax1, ax2] = plt.subplots(2, 1)\n",
    "\n",
    "    fig.set_figwidth(16)\n",
    "    fig.set_figheight(8)\n",
    "\n",
    "    ax1.plot(range(l_edge, r_edge), d_alpha[l_edge:r_edge], label=\"D-alpha\")\n",
    "    ax1.plot(range(l_edge, r_edge), d_alpha_d1[l_edge:r_edge], label=\"Diff 1\")\n",
    "    ax1.plot(range(l_edge, r_edge), d_alpha_f[l_edge:r_edge], label=\"Filter\")\n",
    "    for time in slice_da_times:\n",
    "        ax1.axvline(int(time * 1e6), color=\"green\", linestyle=':', linewidth=0.7)\n",
    "\n",
    "    ax1.grid(which='major', color='#DDDDDD', linewidth=0.9)\n",
    "    ax1.grid(which='minor', color='#DDDDDD', linestyle=':', linewidth=0.7)\n",
    "    ax1.minorticks_on()\n",
    "    ax1.xaxis.set_minor_locator(AutoMinorLocator(10))\n",
    "    ax1.legend()\n",
    "\n",
    "    ax2.plot(range(l_edge, r_edge), sxr[l_edge:r_edge], label=\"SXR\")\n",
    "    ax2.plot(range(l_edge, r_edge), sxr_d1[l_edge:r_edge], label=\"Diff 1\")\n",
    "    ax2.plot(range(l_edge, r_edge), sxr_f[l_edge:r_edge], label=\"Filter\")\n",
    "    for time in slice_sxr_times:\n",
    "        ax2.axvline(int(time * 1e6), color=\"green\", linestyle=':', linewidth=0.7)\n",
    "\n",
    "    ax2.grid(which='major', color='#DDDDDD', linewidth=0.9)\n",
    "    ax2.grid(which='minor', color='#DDDDDD', linestyle=':', linewidth=0.7)\n",
    "    ax2.minorticks_on()\n",
    "    ax2.xaxis.set_minor_locator(AutoMinorLocator(10))\n",
    "    ax2.legend()\n",
    "    plt.show()\n",
    "\n",
    "    # res = list(map(int, input(f\"Input index pairs of ELM fragments ({df.t[l_edge]} - {df.t[r_edge]} ms):\\n\").strip().split()))\n",
    "    # for i in range(0, len(res), 2):\n",
    "    #     board_ind = [res[i], res[i+1]]\n",
    "\n",
    "    #     mark = float(input(\"Input mark to set [ 0 | 1 | 2 ]: \"))\n",
    "        \n",
    "    #     if mode_marking and mark > 0:\n",
    "    #         board_ind = get_borders(df.loc[res[i]:res[i + 1], \"ch1\"].to_numpy(), scale=1.5)\n",
    "    #         board_ind[0] = max(board_ind[0] - step_away + res[i], 0)\n",
    "    #         board_ind[1] += res[i]\n",
    "        \n",
    "    #     df.loc[board_ind[0]:board_ind[1], \"ch1_marked\"] = mark\n",
    "    input(f\"ELM fragment ({df.t[l_edge]} - {df.t[r_edge]} ms):\\n\")\n",
    "\n",
    "    plt.close()\n",
    "    plt.clf()\n",
    "    l_edge += step\n",
    "\n",
    "# 217500"
   ]
  },
  {
   "cell_type": "code",
   "execution_count": null,
   "metadata": {},
   "outputs": [],
   "source": []
  }
 ],
 "metadata": {
  "kernelspec": {
   "display_name": "Python 3 (ipykernel)",
   "language": "python",
   "name": "python3"
  },
  "language_info": {
   "codemirror_mode": {
    "name": "ipython",
    "version": 3
   },
   "file_extension": ".py",
   "mimetype": "text/x-python",
   "name": "python",
   "nbconvert_exporter": "python",
   "pygments_lexer": "ipython3",
   "version": "3.11.7"
  }
 },
 "nbformat": 4,
 "nbformat_minor": 4
}
