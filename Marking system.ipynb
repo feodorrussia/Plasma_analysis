{
 "cells": [
  {
   "cell_type": "code",
   "execution_count": 1,
   "metadata": {
    "collapsed": true,
    "ExecuteTime": {
     "start_time": "2024-09-02T21:33:56.917167Z",
     "end_time": "2024-09-02T21:33:58.971590Z"
    }
   },
   "outputs": [],
   "source": [
    "import pandas as pd\n",
    "import numpy as np\n",
    "from source.Files_operating import read_sht_data, read_dataFile"
   ]
  },
  {
   "cell_type": "code",
   "execution_count": null,
   "outputs": [],
   "source": [
    "F_ID = 44184\n",
    "\n",
    "d_alpha = read_sht_data('D:/Edu/Lab/Projects/Plasma_analysis/data/sht/G-ELM/', f'sht{F_ID}')\n",
    "sxr = read_sht_data('D:/Edu/Lab/Projects/Plasma_analysis/data/sht/G-ELM/', f'sht{F_ID}', data_name=\"SXR 50 mkm\")\n",
    "# dbs = read_dataFile(f'data/dbs/{F_ID} DBS.dat')\n",
    "# mgd_data_1\n",
    "# mgd_data_3\n",
    "# mgd_data_2"
   ],
   "metadata": {
    "collapsed": false
   }
  },
  {
   "cell_type": "code",
   "execution_count": null,
   "outputs": [],
   "source": [],
   "metadata": {
    "collapsed": false
   }
  }
 ],
 "metadata": {
  "kernelspec": {
   "display_name": "Python 3",
   "language": "python",
   "name": "python3"
  },
  "language_info": {
   "codemirror_mode": {
    "name": "ipython",
    "version": 2
   },
   "file_extension": ".py",
   "mimetype": "text/x-python",
   "name": "python",
   "nbconvert_exporter": "python",
   "pygments_lexer": "ipython2",
   "version": "2.7.6"
  }
 },
 "nbformat": 4,
 "nbformat_minor": 0
}
