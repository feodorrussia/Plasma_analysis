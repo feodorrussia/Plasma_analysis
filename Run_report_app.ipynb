{
 "cells": [
  {
   "cell_type": "code",
   "execution_count": 15,
   "id": "c351e151-1717-44f6-bced-872162306054",
   "metadata": {
    "scrolled": true
   },
   "outputs": [
    {
     "name": "stdout",
     "output_type": "stream",
     "text": [
      "Sys args (dir filepath | name of the report file):\n",
      " ['Report_gen_app.py', 'C:/Users/f.belous/Work/Projects/Plasma_analysis/data/sht/G-ELM/', 'C:/Users/f.belous/Work/Projects/Plasma_analysis/reports/SXR-Da_sync_ELM_analytic_v3.txt']\n",
      "\n",
      "----------------\n",
      "Process sht44168.SHT - |---------|- w/ ELM 10 (m=0.034, std=0.120) | w/o ELM 0\n",
      "Process sht44170.SHT - |---------|- w/ ELM 15 (m=0.018, std=0.021) | w/o ELM 0\n",
      "Process sht44171.SHT - |---------|- w/ ELM 10 (m=0.007, std=0.053) | w/o ELM 1\n",
      "Process sht44172.SHT - |---------|- w/ ELM 15 (m=0.024, std=0.028) | w/o ELM 3\n",
      "Process sht44173.SHT - |---------|- w/ ELM 15 (m=-0.007, std=0.051) | w/o ELM 1\n",
      "Process sht44181.SHT - |---------|- w/ ELM 11 (m=0.053, std=0.074) | w/o ELM 2\n",
      "Process sht44183.SHT - |---------|- w/ ELM 14 (m=0.049, std=0.027) | w/o ELM 1\n",
      "Process sht44184.SHT - |---------|- w/ ELM 13 (m=0.047, std=0.079) | w/o ELM 2\n",
      "Process sht44188.SHT - |---------|- w/ ELM 0 (m=nan, std=nan) | w/o ELM 2\n",
      "Process sht44194.SHT - |"
     ]
    },
    {
     "name": "stderr",
     "output_type": "stream",
     "text": [
      "C:\\Users\\f.belous\\Work\\Projects\\Plasma_analysis\\Report_gen_app.py:333: RuntimeWarning: Mean of empty slice\n",
      "  report_lines.append(f\"Deltas info: mean = {np.nanmean(deltas):.3f} ms, std = {np.nanstd(deltas):.3f}\\n\")\n",
      "C:\\Users\\f.belous\\AppData\\Local\\anaconda3\\Lib\\site-packages\\numpy\\lib\\nanfunctions.py:1878: RuntimeWarning: Degrees of freedom <= 0 for slice.\n",
      "  var = nanvar(a, axis=axis, dtype=dtype, out=out, ddof=ddof,\n",
      "C:\\Users\\f.belous\\Work\\Projects\\Plasma_analysis\\Report_gen_app.py:345: RuntimeWarning: Mean of empty slice\n",
      "  print(f\"- w/ ELM {len(sxr_slices) - np.count_nonzero(np.isnan(deltas))} | w/o ELM {np.count_nonzero(np.isnan(deltas))}\")\n"
     ]
    },
    {
     "name": "stdout",
     "output_type": "stream",
     "text": [
      "---------|- w/ ELM 11 (m=0.057, std=0.097) | w/o ELM 3\n",
      "Process sht44198.SHT - |---------|- w/ ELM 13 (m=0.027, std=0.047) | w/o ELM 2\n",
      "Process sht44199.SHT - |---------|- w/ ELM 6 (m=0.021, std=0.053) | w/o ELM 1\n",
      "Process sht44207.SHT - |---------|- w/ ELM 4 (m=0.014, std=0.022) | w/o ELM 0\n",
      "Process sht44347.SHT - |---------|- w/ ELM 5 (m=-0.010, std=0.046) | w/o ELM 0\n",
      "Process sht44348.SHT - |---------|- w/ ELM 4 (m=0.013, std=0.021) | w/o ELM 0\n",
      "Process sht44350.SHT - |---------|- w/ ELM 4 (m=0.014, std=0.014) | w/o ELM 0\n",
      "Process sht44351.SHT - |---------|- w/ ELM 4 (m=-0.008, std=0.046) | w/o ELM 0\n",
      "Process sht44352.SHT - |---------|- w/ ELM 7 (m=0.019, std=0.011) | w/o ELM 1\n",
      "Process sht44355.SHT - |---------|- w/ ELM 5 (m=-0.008, std=0.021) | w/o ELM 0\n"
     ]
    }
   ],
   "source": [
    "# args from CL: full filepath | filename | checkpoint version\n",
    "# D:/Edu/Lab/Projects/Plasma_analysis/data/sht/G-ELM/ | C:/Users/f.belous/Work/Projects/Plasma_analysis/data/sht/G-ELM/\n",
    "%run Report_gen_app.py C:/Users/f.belous/Work/Projects/Plasma_analysis/data/sht/G-ELM/ C:/Users/f.belous/Work/Projects/Plasma_analysis/reports/SXR-Da_sync_ELM_analytic_v3.txt"
   ]
  },
  {
   "cell_type": "code",
   "execution_count": 16,
   "id": "601bcf8e-a446-46c5-b65d-6544a05d09ad",
   "metadata": {},
   "outputs": [
    {
     "name": "stdout",
     "output_type": "stream",
     "text": [
      "Sys args (dir filepath | name of the report file):\n",
      " ['Report_gen_app.py', 'C:/Users/f.belous/Work/Projects/Plasma_analysis/data/sht/NG-ELM/', 'C:/Users/f.belous/Work/Projects/Plasma_analysis/reports/SXR-Da_sync_ELM_analytic_v4.txt']\n",
      "\n",
      "----------------\n",
      "Process sht43905.SHT - |---------|- w/ ELM 10 (m=0.044, std=0.051) | w/o ELM 0\n",
      "Process sht43908.SHT - |---------|- w/ ELM 11 (m=0.028, std=0.016) | w/o ELM 1\n",
      "Process sht44172.SHT - |---------|- w/ ELM 15 (m=0.024, std=0.028) | w/o ELM 3\n",
      "Process sht44174.SHT - |---------|- w/ ELM 9 (m=0.021, std=0.048) | w/o ELM 0\n",
      "Process sht44181.SHT - |---------|- w/ ELM 11 (m=0.053, std=0.074) | w/o ELM 2\n",
      "Process sht44185.SHT - |---------|- w/ ELM 9 (m=0.021, std=0.020) | w/o ELM 0\n",
      "Process sht44187.SHT - |---------|- w/ ELM 12 (m=0.034, std=0.068) | w/o ELM 4\n",
      "Process sht44188.SHT - |---------|- w/ ELM 0 (m=nan, std=nan) | w/o ELM 2\n",
      "Process sht44192.SHT - |"
     ]
    },
    {
     "name": "stderr",
     "output_type": "stream",
     "text": [
      "C:\\Users\\f.belous\\Work\\Projects\\Plasma_analysis\\Report_gen_app.py:333: RuntimeWarning: Mean of empty slice\n",
      "  report_lines.append(f\"Deltas info: mean = {np.nanmean(deltas):.3f} ms, std = {np.nanstd(deltas):.3f}\\n\")\n",
      "C:\\Users\\f.belous\\AppData\\Local\\anaconda3\\Lib\\site-packages\\numpy\\lib\\nanfunctions.py:1878: RuntimeWarning: Degrees of freedom <= 0 for slice.\n",
      "  var = nanvar(a, axis=axis, dtype=dtype, out=out, ddof=ddof,\n",
      "C:\\Users\\f.belous\\Work\\Projects\\Plasma_analysis\\Report_gen_app.py:345: RuntimeWarning: Mean of empty slice\n",
      "  print(f\"- w/ ELM {len(sxr_slices) - np.count_nonzero(np.isnan(deltas))} | w/o ELM {np.count_nonzero(np.isnan(deltas))}\")\n"
     ]
    },
    {
     "name": "stdout",
     "output_type": "stream",
     "text": [
      "---------|- w/ ELM 15 (m=0.044, std=0.058) | w/o ELM 4\n",
      "Process sht44193.SHT - |---------|- w/ ELM 1 (m=-0.008, std=0.000) | w/o ELM 0\n",
      "Process sht44204.SHT - |---------|- w/ ELM 17 (m=0.027, std=0.036) | w/o ELM 2\n",
      "Process sht44228.SHT - |---------|- w/ ELM 17 (m=0.046, std=0.082) | w/o ELM 0\n",
      "Process sht44349.SHT - |---------|- w/ ELM 4 (m=-0.011, std=0.046) | w/o ELM 0\n",
      "Process sht44353.SHT - |---------|- w/ ELM 2 (m=0.033, std=0.041) | w/o ELM 0\n",
      "Process sht44375.SHT - |---------|- w/ ELM 1 (m=-0.006, std=0.000) | w/o ELM 0\n",
      "Process sht44376.SHT - |---------|- w/ ELM 9 (m=0.023, std=0.092) | w/o ELM 1\n",
      "Process sht44378.SHT - |---------|- w/ ELM 6 (m=0.031, std=0.050) | w/o ELM 0\n",
      "Process sht44380.SHT - |---------|- w/ ELM 10 (m=-0.008, std=0.050) | w/o ELM 0\n",
      "Process sht44518.SHT - |---------|- w/ ELM 2 (m=0.230, std=0.155) | w/o ELM 2\n",
      "Process sht44574.SHT - |---------|- w/ ELM 15 (m=0.028, std=0.025) | w/o ELM 0\n",
      "Process sht44744.SHT - |---------|- w/ ELM 1 (m=0.282, std=0.000) | w/o ELM 5\n"
     ]
    }
   ],
   "source": [
    "# args from CL: full filepath | filename | checkpoint version\n",
    "# D:/Edu/Lab/Projects/Plasma_analysis/data/sht/G-ELM/ | C:/Users/f.belous/Work/Projects/Plasma_analysis/data/sht/G-ELM/\n",
    "%run Report_gen_app.py C:/Users/f.belous/Work/Projects/Plasma_analysis/data/sht/NG-ELM/ C:/Users/f.belous/Work/Projects/Plasma_analysis/reports/SXR-Da_sync_ELM_analytic_v4.txt"
   ]
  },
  {
   "cell_type": "code",
   "execution_count": null,
   "id": "b81b7122-25d0-4c26-a169-c1277cee7b8a",
   "metadata": {},
   "outputs": [],
   "source": []
  }
 ],
 "metadata": {
  "kernelspec": {
   "display_name": "Python 3 (ipykernel)",
   "language": "python",
   "name": "python3"
  },
  "language_info": {
   "codemirror_mode": {
    "name": "ipython",
    "version": 3
   },
   "file_extension": ".py",
   "mimetype": "text/x-python",
   "name": "python",
   "nbconvert_exporter": "python",
   "pygments_lexer": "ipython3",
   "version": "3.11.7"
  }
 },
 "nbformat": 4,
 "nbformat_minor": 5
}
