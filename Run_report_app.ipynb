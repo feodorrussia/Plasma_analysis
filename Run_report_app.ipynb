{
 "cells": [
  {
   "cell_type": "code",
   "execution_count": 9,
   "id": "e2ec96e1-d294-4e55-aa73-eb9e5e6ce7fd",
   "metadata": {},
   "outputs": [
    {
     "name": "stdout",
     "output_type": "stream",
     "text": [
      "Sys args (dir filepath | name of the report file):\n",
      " ['Report_gen_app.py', 'C:/Users/f.belous/Work/Projects/Plasma_analysis/data/sht/select/', 'C:/Users/f.belous/Work/Projects/Plasma_analysis/reports/SXR-Da_sync_ELM_MGD_analytic_select_v1.txt']\n",
      "\n",
      "----------------\n",
      "Process sht44170.SHT - |---------| - signal (sxr: d_q=0.000106, d_std=0.001591, d_std_top_edge=2.717) - w/ ELM 20 (m=0.044, std=0.045) | w/o ELM 11\n",
      "Process sht44172.SHT - |---------| - signal (sxr: d_q=0.000105, d_std=0.001589, d_std_top_edge=2.720) - w/ ELM 18 (m=0.033, std=0.040) | w/o ELM 9\n",
      "Process sht44184.SHT - |---------| - signal (sxr: d_q=0.000092, d_std=0.000853, d_std_top_edge=5.087) - w/ ELM 16 (m=0.050, std=0.071) | w/o ELM 8\n",
      "Process sht44185.SHT - |---------| - signal (sxr: d_q=0.000091, d_std=0.001301, d_std_top_edge=3.475) - w/ ELM 17 (m=0.051, std=0.090) | w/o ELM 2\n",
      "Process sht44188.SHT - |---------| - signal (sxr: d_q=0.000062, d_std=0.001119, d_std_top_edge=4.055) - w/ ELM 2 (m=0.177, std=0.086) | w/o ELM 3\n",
      "Process sht44194.SHT - |---------| - signal (sxr: d_q=0.000096, d_std=0.001040, d_std_top_edge=4.337) - w/ ELM 16 (m=0.062, std=0.056) | w/o ELM 7\n",
      "Process sht44350.SHT - |---------| - signal (sxr: d_q=0.000078, d_std=0.001231, d_std_top_edge=3.687) - w/ ELM 19 (m=0.010, std=0.038) | w/o ELM 0\n",
      "Process sht44375.SHT - |---------| - signal (sxr: d_q=0.000068, d_std=0.001194, d_std_top_edge=3.805) - w/ ELM 17 (m=0.015, std=0.072) | w/o ELM 1\n"
     ]
    }
   ],
   "source": [
    "# args from CL: full filepath | filename | checkpoint version\n",
    "# D:/Edu/Lab/Projects/Plasma_analysis/data/sht/G-ELM/ | C:/Users/f.belous/Work/Projects/Plasma_analysis/data/sht/G-ELM/\n",
    "%run Report_gen_app.py C:/Users/f.belous/Work/Projects/Plasma_analysis/data/sht/select/ C:/Users/f.belous/Work/Projects/Plasma_analysis/reports/SXR-Da_sync_ELM_MGD_analytic_select_v1.txt"
   ]
  },
  {
   "cell_type": "code",
   "execution_count": null,
   "id": "c351e151-1717-44f6-bced-872162306054",
   "metadata": {
    "scrolled": true
   },
   "outputs": [],
   "source": [
    "# args from CL: full filepath | filename | checkpoint version\n",
    "# D:/Edu/Lab/Projects/Plasma_analysis/data/sht/G-ELM/ | C:/Users/f.belous/Work/Projects/Plasma_analysis/data/sht/G-ELM/\n",
    "%run Report_gen_app.py C:/Users/f.belous/Work/Projects/Plasma_analysis/data/sht/G-ELM/ C:/Users/f.belous/Work/Projects/Plasma_analysis/reports/SXR-Da_sync_ELM_MGD_analytic_G_ELM.txt"
   ]
  },
  {
   "cell_type": "code",
   "execution_count": null,
   "id": "601bcf8e-a446-46c5-b65d-6544a05d09ad",
   "metadata": {
    "scrolled": true
   },
   "outputs": [],
   "source": [
    "# args from CL: full filepath | filename | checkpoint version\n",
    "# D:/Edu/Lab/Projects/Plasma_analysis/data/sht/G-ELM/ | C:/Users/f.belous/Work/Projects/Plasma_analysis/data/sht/G-ELM/\n",
    "%run Report_gen_app.py C:/Users/f.belous/Work/Projects/Plasma_analysis/data/sht/NG-ELM/ C:/Users/f.belous/Work/Projects/Plasma_analysis/reports/SXR-Da_sync_ELM_MGD_analytic_NG_ELM.txt"
   ]
  },
  {
   "cell_type": "code",
   "execution_count": null,
   "id": "b81b7122-25d0-4c26-a169-c1277cee7b8a",
   "metadata": {},
   "outputs": [],
   "source": []
  }
 ],
 "metadata": {
  "kernelspec": {
   "display_name": "Python 3 (ipykernel)",
   "language": "python",
   "name": "python3"
  },
  "language_info": {
   "codemirror_mode": {
    "name": "ipython",
    "version": 3
   },
   "file_extension": ".py",
   "mimetype": "text/x-python",
   "name": "python",
   "nbconvert_exporter": "python",
   "pygments_lexer": "ipython3",
   "version": "3.11.7"
  }
 },
 "nbformat": 4,
 "nbformat_minor": 5
}
