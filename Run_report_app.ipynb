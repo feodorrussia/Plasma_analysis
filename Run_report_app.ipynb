{
 "cells": [
  {
   "cell_type": "code",
   "execution_count": 45,
   "id": "c351e151-1717-44f6-bced-872162306054",
   "metadata": {
    "scrolled": true
   },
   "outputs": [
    {
     "name": "stdout",
     "output_type": "stream",
     "text": [
      "Sys args (dir filepath | name of the report file):\n",
      " ['Report_gen_app.py', 'C:/Users/f.belous/Work/Projects/Plasma_analysis/data/sht/G-ELM/', 'C:/Users/f.belous/Work/Projects/Plasma_analysis/reports/SXR-Da_sync_ELM_analytic_v7.txt']\n",
      "\n",
      "----------------\n",
      "Process sht44168.SHT - |---------| - signal (sxr: d_q=0.000094, d_std=0.001488, d_std_top_edge=2.965) - w/ ELM 27 (m=0.059, std=0.074) | w/o ELM 0\n",
      "Process sht44170.SHT - |---------| - signal (sxr: d_q=0.000106, d_std=0.001591, d_std_top_edge=2.717) - w/ ELM 17 (m=0.042, std=0.047) | w/o ELM 14\n",
      "Process sht44171.SHT - |---------| - signal (sxr: d_q=0.000097, d_std=0.001562, d_std_top_edge=2.784) - w/ ELM 9 (m=0.028, std=0.061) | w/o ELM 9\n",
      "Process sht44172.SHT - |---------| - signal (sxr: d_q=0.000105, d_std=0.001589, d_std_top_edge=2.720) - w/ ELM 12 (m=0.024, std=0.043) | w/o ELM 9\n",
      "Process sht44173.SHT - |---------| - signal (sxr: d_q=0.000106, d_std=0.001293, d_std_top_edge=3.499) - w/ ELM 11 (m=0.023, std=0.041) | w/o ELM 10\n",
      "Process sht44181.SHT - |---------| - signal (sxr: d_q=0.000087, d_std=0.000775, d_std_top_edge=5.434) - w/ ELM 16 (m=0.053, std=0.066) | w/o ELM 5\n",
      "Process sht44183.SHT - |---------| - signal (sxr: d_q=0.000086, d_std=0.001207, d_std_top_edge=3.765) - w/ ELM 15 (m=0.029, std=0.051) | w/o ELM 5\n",
      "Process sht44184.SHT - |---------| - signal (sxr: d_q=0.000092, d_std=0.000853, d_std_top_edge=5.087) - w/ ELM 15 (m=0.052, std=0.073) | w/o ELM 8\n",
      "Process sht44188.SHT - |---------| - signal (sxr: d_q=0.000062, d_std=0.001119, d_std_top_edge=4.055) - w/ ELM 1 (m=0.092, std=0.000) | w/o ELM 3\n",
      "Process sht44194.SHT - |---------| - signal (sxr: d_q=0.000096, d_std=0.001040, d_std_top_edge=4.337) - w/ ELM 16 (m=0.062, std=0.056) | w/o ELM 7\n",
      "Process sht44198.SHT - |---------| - signal (sxr: d_q=0.000098, d_std=0.002334, d_std_top_edge=1.444) - w/ ELM 16 (m=0.053, std=0.063) | w/o ELM 8\n",
      "Process sht44199.SHT - |---------| - signal (sxr: d_q=0.000093, d_std=0.001722, d_std_top_edge=2.430) - w/ ELM 18 (m=0.026, std=0.058) | w/o ELM 3\n",
      "Process sht44207.SHT - |---------| - signal (sxr: d_q=0.000076, d_std=0.001069, d_std_top_edge=4.234) - w/ ELM 21 (m=0.019, std=0.036) | w/o ELM 4\n",
      "Process sht44347.SHT - |---------| - signal (sxr: d_q=0.000077, d_std=0.001604, d_std_top_edge=2.687) - w/ ELM 21 (m=0.014, std=0.039) | w/o ELM 1\n",
      "Process sht44348.SHT - |---------| - signal (sxr: d_q=0.000077, d_std=0.001542, d_std_top_edge=2.831) - w/ ELM 21 (m=0.029, std=0.026) | w/o ELM 0\n",
      "Process sht44350.SHT - |---------| - signal (sxr: d_q=0.000078, d_std=0.001231, d_std_top_edge=3.687) - w/ ELM 19 (m=0.010, std=0.038) | w/o ELM 0\n",
      "Process sht44351.SHT - |---------| - signal (sxr: d_q=0.000077, d_std=0.001310, d_std_top_edge=3.450) - w/ ELM 17 (m=0.010, std=0.041) | w/o ELM 0\n",
      "Process sht44352.SHT - |---------| - signal (sxr: d_q=0.000077, d_std=0.001132, d_std_top_edge=4.013) - w/ ELM 20 (m=0.023, std=0.027) | w/o ELM 1\n",
      "Process sht44355.SHT - |---------| - signal (sxr: d_q=0.000071, d_std=0.000839, d_std_top_edge=5.146) - w/ ELM 14 (m=0.028, std=0.031) | w/o ELM 0\n"
     ]
    }
   ],
   "source": [
    "# args from CL: full filepath | filename | checkpoint version\n",
    "# D:/Edu/Lab/Projects/Plasma_analysis/data/sht/G-ELM/ | C:/Users/f.belous/Work/Projects/Plasma_analysis/data/sht/G-ELM/\n",
    "%run Report_gen_app.py C:/Users/f.belous/Work/Projects/Plasma_analysis/data/sht/G-ELM/ C:/Users/f.belous/Work/Projects/Plasma_analysis/reports/SXR-Da_sync_ELM_analytic_G_ELM.txt"
   ]
  },
  {
   "cell_type": "code",
   "execution_count": 46,
   "id": "601bcf8e-a446-46c5-b65d-6544a05d09ad",
   "metadata": {
    "scrolled": true
   },
   "outputs": [
    {
     "name": "stdout",
     "output_type": "stream",
     "text": [
      "Sys args (dir filepath | name of the report file):\n",
      " ['Report_gen_app.py', 'C:/Users/f.belous/Work/Projects/Plasma_analysis/data/sht/NG-ELM/', 'C:/Users/f.belous/Work/Projects/Plasma_analysis/reports/SXR-Da_sync_ELM_analytic_v8.txt']\n",
      "\n",
      "----------------\n",
      "Process sht43905.SHT - |---------| - signal (sxr: d_q=0.000073, d_std=0.000619, d_std_top_edge=6.205) - w/ ELM 18 (m=0.036, std=0.054) | w/o ELM 2\n",
      "Process sht43908.SHT - |---------| - signal (sxr: d_q=0.000072, d_std=0.000431, d_std_top_edge=7.278) - w/ ELM 17 (m=0.023, std=0.016) | w/o ELM 3\n",
      "Process sht44172.SHT - |---------| - signal (sxr: d_q=0.000105, d_std=0.001589, d_std_top_edge=2.720) - w/ ELM 12 (m=0.024, std=0.043) | w/o ELM 9\n",
      "Process sht44174.SHT - |---------| - signal (sxr: d_q=0.000100, d_std=0.001373, d_std_top_edge=3.268) - w/ ELM 15 (m=0.022, std=0.079) | w/o ELM 4\n",
      "Process sht44181.SHT - |---------| - signal (sxr: d_q=0.000087, d_std=0.000775, d_std_top_edge=5.434) - w/ ELM 16 (m=0.053, std=0.066) | w/o ELM 5\n",
      "Process sht44185.SHT - |---------| - signal (sxr: d_q=0.000091, d_std=0.001301, d_std_top_edge=3.475) - w/ ELM 15 (m=0.075, std=0.122) | w/o ELM 2\n",
      "Process sht44187.SHT - |---------| - signal (sxr: d_q=0.000093, d_std=0.000729, d_std_top_edge=5.648) - w/ ELM 12 (m=0.056, std=0.103) | w/o ELM 6\n",
      "Process sht44188.SHT - |---------| - signal (sxr: d_q=0.000062, d_std=0.001119, d_std_top_edge=4.055) - w/ ELM 1 (m=0.092, std=0.000) | w/o ELM 3\n",
      "Process sht44192.SHT - |---------| - signal (sxr: d_q=0.000100, d_std=0.001747, d_std_top_edge=2.379) - w/ ELM 16 (m=0.090, std=0.109) | w/o ELM 10\n",
      "Process sht44193.SHT - |---------| - signal (sxr: d_q=0.000090, d_std=0.001824, d_std_top_edge=2.229) - w/ ELM 14 (m=0.099, std=0.119) | w/o ELM 6\n",
      "Process sht44204.SHT - |---------| - signal (sxr: d_q=0.000072, d_std=0.000286, d_std_top_edge=8.233) - w/ ELM 22 (m=0.024, std=0.032) | w/o ELM 4\n",
      "Process sht44228.SHT - |---------| - signal (sxr: d_q=0.000066, d_std=0.000451, d_std_top_edge=7.155) - w/ ELM 20 (m=0.043, std=0.077) | w/o ELM 1\n",
      "Process sht44349.SHT - |---------| - signal (sxr: d_q=0.000082, d_std=0.001940, d_std_top_edge=2.019) - w/ ELM 17 (m=0.011, std=0.045) | w/o ELM 4\n",
      "Process sht44353.SHT - |---------| - signal (sxr: d_q=0.000076, d_std=0.001873, d_std_top_edge=2.137) - w/ ELM 19 (m=0.023, std=0.023) | w/o ELM 2\n",
      "Process sht44375.SHT - |---------| - signal (sxr: d_q=0.000068, d_std=0.001194, d_std_top_edge=3.805) - w/ ELM 17 (m=0.015, std=0.072) | w/o ELM 1\n",
      "Process sht44376.SHT - |---------| - signal (sxr: d_q=0.000068, d_std=0.000485, d_std_top_edge=6.951) - w/ ELM 19 (m=0.007, std=0.072) | w/o ELM 2\n",
      "Process sht44378.SHT - |---------| - signal (sxr: d_q=0.000073, d_std=0.000377, d_std_top_edge=7.622) - w/ ELM 20 (m=-0.002, std=0.056) | w/o ELM 2\n",
      "Process sht44380.SHT - |---------| - signal (sxr: d_q=0.000071, d_std=0.000340, d_std_top_edge=7.864) - w/ ELM 18 (m=0.009, std=0.071) | w/o ELM 0\n",
      "Process sht44518.SHT - |---------| - signal (sxr: d_q=0.000062, d_std=0.000399, d_std_top_edge=7.480) - w/ ELM 1 (m=0.074, std=0.000) | w/o ELM 3\n",
      "Process sht44574.SHT - |---------| - signal (sxr: d_q=0.000069, d_std=0.000567, d_std_top_edge=6.482) - w/ ELM 18 (m=0.024, std=0.030) | w/o ELM 4\n",
      "Process sht44744.SHT - |---------| - signal (sxr: d_q=0.000063, d_std=0.000368, d_std_top_edge=7.679) - w/ ELM 6 (m=0.051, std=0.109) | w/o ELM 6\n"
     ]
    }
   ],
   "source": [
    "# args from CL: full filepath | filename | checkpoint version\n",
    "# D:/Edu/Lab/Projects/Plasma_analysis/data/sht/G-ELM/ | C:/Users/f.belous/Work/Projects/Plasma_analysis/data/sht/G-ELM/\n",
    "%run Report_gen_app.py C:/Users/f.belous/Work/Projects/Plasma_analysis/data/sht/NG-ELM/ C:/Users/f.belous/Work/Projects/Plasma_analysis/reports/SXR-Da_sync_ELM_analytic_G_ELM.txt"
   ]
  },
  {
   "cell_type": "code",
   "execution_count": null,
   "id": "b81b7122-25d0-4c26-a169-c1277cee7b8a",
   "metadata": {},
   "outputs": [],
   "source": []
  }
 ],
 "metadata": {
  "kernelspec": {
   "display_name": "Python 3 (ipykernel)",
   "language": "python",
   "name": "python3"
  },
  "language_info": {
   "codemirror_mode": {
    "name": "ipython",
    "version": 3
   },
   "file_extension": ".py",
   "mimetype": "text/x-python",
   "name": "python",
   "nbconvert_exporter": "python",
   "pygments_lexer": "ipython3",
   "version": "3.11.7"
  }
 },
 "nbformat": 4,
 "nbformat_minor": 5
}
